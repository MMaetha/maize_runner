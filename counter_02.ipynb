{
 "cells": [
  {
   "cell_type": "code",
   "execution_count": 1,
   "metadata": {
    "collapsed": true
   },
   "outputs": [],
   "source": [
    "%matplotlib inline\n",
    "from collections import Counter;"
   ]
  },
  {
   "cell_type": "code",
   "execution_count": 2,
   "metadata": {},
   "outputs": [
    {
     "name": "stderr",
     "output_type": "stream",
     "text": [
      "IOPub data rate exceeded.\n",
      "The notebook server will temporarily stop sending output\n",
      "to the client in order to avoid crashing it.\n",
      "To change this limit, set the config variable\n",
      "`--NotebookApp.iopub_data_rate_limit`.\n"
     ]
    }
   ],
   "source": [
    "f = open('TE_search08_chr1.csv','r')\n",
    "data = f.readlines()\n",
    "f.close()\n",
    "data2 = [int(n) for n in data] #mapping by list comprehenson\n",
    "data3 = [n for n in data2 if n>=0] #filtering data by list comprehenson\n",
    "num = Counter(data3)\n",
    "print(num)"
   ]
  },
  {
   "cell_type": "code",
   "execution_count": 15,
   "metadata": {},
   "outputs": [
    {
     "name": "stdout",
     "output_type": "stream",
     "text": [
      "[12, 20, 23, 23, 22, 21, 20, 22, 22, 20, 22, 18, 18, 23, 19, 20, 26, 20, 22, 22, 22, 26, 20, 27, 21, 20, 24, 22, 26, 27, 25, 22, 23, 23, 21, 20, 24, 20, 21, 19, 23, 20, 21, 19, 22, 21, 20, 20, 20, 17, 18, 26, 19, 22, 21, 18, 21, 19, 23, 16, 20, 23, 15, 17, 20, 15, 18, 20, 19, 22, 16, 17, 19, 16, 19, 14, 16, 17, 19, 20, 19, 16, 16, 14, 16, 14, 14, 18, 16, 14, 19, 16, 15, 16, 15, 14, 12, 12, 14, 15, 12, 13, 12, 15, 17, 12, 16, 14, 13, 15, 15, 14, 12, 12, 14, 15, 14, 11, 12, 12, 12, 16, 14, 13, 15, 12, 11, 10, 13, 13, 20, 15, 12, 13, 10, 10, 9, 12, 11, 9, 10, 12, 8, 9, 9, 11, 9, 8, 9, 8, 10, 8, 8, 10, 6, 7, 8, 6, 8, 15, 10, 15, 12, 5, 6, 9, 7, 6, 7, 6, 5, 7, 5, 6, 7, 6, 8, 10, 5, 5, 8, 5, 6, 5, 6, 5, 6, 6, 7, 4, 4, 3, 2, 3, 4, 1, 3, 2, 1, 3]\n"
     ]
    }
   ],
   "source": [
    "data4 = []  \n",
    "tmp=0;\n",
    "\n",
    "for n in range(0,10000):\n",
    "    tmp = max(num[n],tmp)\n",
    "    if(n%50==0):\n",
    "        data4.append(tmp)\n",
    "        tmp=0\n",
    "\n",
    "print(data4)"
   ]
  },
  {
   "cell_type": "code",
   "execution_count": 16,
   "metadata": {
    "collapsed": true
   },
   "outputs": [],
   "source": [
    "import matplotlib.pyplot as plt"
   ]
  },
  {
   "cell_type": "code",
   "execution_count": 20,
   "metadata": {},
   "outputs": [
    {
     "data": {
      "text/plain": [
       "<Container object of 200 artists>"
      ]
     },
     "execution_count": 20,
     "metadata": {},
     "output_type": "execute_result"
    },
    {
     "data": {
      "image/png": "[encoded data removed]",
      "text/plain": [
       "<matplotlib.figure.Figure at 0x1491d0c7748>"
      ]
     },
     "metadata": {},
     "output_type": "display_data"
    }
   ],
   "source": [
    "N = len(data4)\n",
    "x = range(N)\n",
    "width = 1/1.5\n",
    "plt.bar(x, data4, width, color=\"blue\")"
   ]
  },
  {
   "cell_type": "code",
   "execution_count": 21,
   "metadata": {},
   "outputs": [
    {
     "name": "stdout",
     "output_type": "stream",
     "text": [
      "[11.18, 11.3, 11.12, 10.54, 11.9, 11.22, 11.58, 11.56, 9.7, 11.94, 10.58, 9.84, 10.96, 10.72, 9.86, 12.04, 10.82, 11.86, 11.16, 10.46, 12.1, 10.66, 11.4, 11.04, 10.66, 10.44, 11.86, 10.44, 10.82, 11.2, 11.86, 10.26, 11.68, 11.66, 11.06, 11.64, 10.94, 11.04, 10.48, 10.14, 9.68, 10.32, 10.56, 9.34, 10.06, 9.2, 10.3, 10.16, 9.38, 10.12, 9.46, 10.78, 9.18, 9.32, 10.04, 8.9, 8.62, 8.66, 7.96, 9.26, 8.96, 7.92, 7.54, 8.04, 8.98, 9.24, 8.36, 8.18, 9.14, 8.54, 8.6, 7.2, 8.12, 8.12, 7.36, 7.2, 7.5, 8.14, 8.14, 8.6, 7.14, 6.94, 6.14, 6.74, 6.92, 6.58, 6.84, 7.38, 7.42, 6.84, 6.48, 6.8, 6.58, 6.7, 6.74, 6.32, 6.34, 6.08, 6.68, 5.14, 6.08, 5.36, 5.84, 5.8, 5.02, 6.38, 5.9, 5.62, 5.56, 5.76, 6.48, 5.1, 5.1, 5.12, 5.02, 5.12, 4.98, 4.72, 5.78, 4.96, 5.36, 4.7, 5.28, 5.4, 5.36, 4.68, 4.6, 4.42, 4.88, 4.64, 4.94, 4.62, 4.8, 4.52, 4.04, 3.68, 4.22, 4.26, 3.82, 3.98, 4.5, 3.32, 3.44, 3.08, 3.2, 3.74, 2.76, 2.74, 2.98, 3.46, 2.48, 2.78, 3.04, 2.82, 2.52, 2.76, 2.68, 2.2, 3.02, 2.66, 3.0, 2.28, 1.44, 1.94, 2.4, 2.1, 1.74, 1.9, 1.68, 1.8, 1.86, 1.82, 1.72, 1.74, 1.6, 1.36, 1.42, 1.2, 1.14, 1.04, 1.42, 1.4, 1.28, 1.14, 0.7, 1.04, 0.68, 0.78, 0.64, 0.74, 0.54, 0.32, 0.28, 0.48, 0.24, 0.26, 0.14, 0.12, 0.16, 0.02]\n"
     ]
    }
   ],
   "source": [
    "data5 = []  \n",
    "sum = 0;\n",
    "\n",
    "for n in range(0,10000):\n",
    "    sum+=num[n];\n",
    "    if((n+1)%50==0):\n",
    "        sum/=50\n",
    "        data5.append(sum)\n",
    "        sum = 0\n",
    "\n",
    "print(data5)"
   ]
  },
  {
   "cell_type": "code",
   "execution_count": 22,
   "metadata": {},
   "outputs": [
    {
     "data": {
      "text/plain": [
       "<Container object of 200 artists>"
      ]
     },
     "execution_count": 22,
     "metadata": {},
     "output_type": "execute_result"
    },
    {
     "data": {
      "image/png": "[encoded data removed]",
      "text/plain": [
       "<matplotlib.figure.Figure at 0x1491d6920b8>"
      ]
     },
     "metadata": {},
     "output_type": "display_data"
    }
   ],
   "source": [
    "N = len(data5)\n",
    "x = range(N)\n",
    "width = 1/1.5\n",
    "plt.bar(x, data5, width, color=\"blue\")"
   ]
  },
  {
   "cell_type": "code",
   "execution_count": null,
   "metadata": {
    "collapsed": true
   },
   "outputs": [],
   "source": []
  }
 ],
 "metadata": {
  "kernelspec": {
   "display_name": "Python 3",
   "language": "python",
   "name": "python3"
  },
  "language_info": {
   "codemirror_mode": {
    "name": "ipython",
    "version": 3
   },
   "file_extension": ".py",
   "mimetype": "text/x-python",
   "name": "python",
   "nbconvert_exporter": "python",
   "pygments_lexer": "ipython3",
   "version": "3.6.3"
  }
 },
 "nbformat": 4,
 "nbformat_minor": 2
}
